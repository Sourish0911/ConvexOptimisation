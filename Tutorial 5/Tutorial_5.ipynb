{
  "nbformat": 4,
  "nbformat_minor": 0,
  "metadata": {
    "colab": {
      "name": "Tutorial 5.ipynb",
      "provenance": []
    },
    "kernelspec": {
      "name": "python3",
      "display_name": "Python 3"
    },
    "language_info": {
      "name": "python"
    }
  },
  "cells": [
    {
      "cell_type": "code",
      "execution_count": 4,
      "metadata": {
        "colab": {
          "base_uri": "https://localhost:8080/"
        },
        "id": "EQrNpTY1rljN",
        "outputId": "f6edb480-7e69-40e3-b59e-06f199f12de6"
      },
      "outputs": [
        {
          "output_type": "stream",
          "name": "stdout",
          "text": [
            "Optimal cost 1025.0\n",
            "Nomber of Shipped Goods [[ 0. 15. 25.  0.  0.]\n",
            " [45.  0.  5.  0.  0.]\n",
            " [ 0.  5.  0. 30. 10.]]\n"
          ]
        }
      ],
      "source": [
        "from cvxpy.problems.objective import Objective\n",
        "import cvxpy as cp\n",
        "import numpy as np\n",
        "\n",
        "Dem = np.array([[45],[20],[30],[30],[10]])\n",
        "\n",
        "Cost = np.array([[8,6,10,9,8],[9,12,13,7,5],[14,9,16,5,2]])\n",
        "\n",
        "\n",
        "Sup = np.array([[40],[50],[45]])\n",
        "\n",
        "\n",
        "N = cp.Variable((3,5), integer=True)\n",
        "\n",
        "\n",
        "\n",
        "Final_cost = cp.trace(cp.matmul(N,Cost.T))\n",
        "\n",
        "Constraints = [cp.matmul(np.ones([1,3]),N).T >= Dem, N >=0,cp.matmul(N,np.ones([5,1])) <= Sup ]\n",
        "\n",
        "Objective = cp.Minimize(Final_cost)\n",
        "\n",
        "prob = cp.Problem(Objective,Constraints)\n",
        "\n",
        "prob.solve()\n",
        "\n",
        "print(\"Optimal cost\",Final_cost.value)\n",
        "print(\"Nomber of Shipped Goods\",N.value)\n"
      ]
    }
  ]
}