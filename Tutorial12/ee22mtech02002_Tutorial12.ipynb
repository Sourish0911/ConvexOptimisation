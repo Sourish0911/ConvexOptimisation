{
  "nbformat": 4,
  "nbformat_minor": 0,
  "metadata": {
    "colab": {
      "name": "Untitled12.ipynb",
      "provenance": []
    },
    "kernelspec": {
      "name": "python3",
      "display_name": "Python 3"
    },
    "language_info": {
      "name": "python"
    }
  },
  "cells": [
    {
      "cell_type": "code",
      "execution_count": 5,
      "metadata": {
        "id": "8myutKwumSrb"
      },
      "outputs": [],
      "source": [
        "import numpy as np\n",
        "import cvxpy as cp\n",
        "\n",
        "(m, n) = (30, 10)\n",
        "np.random.seed(10)\n",
        "\n",
        "A = np.random.rand(m, n);\n",
        "A = np.asmatrix(A);\n",
        "cnom = np.ones((n, 1)) + np.random.rand(n, 1);\n",
        "cnom = np.asmatrix(cnom);\n",
        "b = np.random.rand(m, 1);\n",
        "b = np.asmatrix(b);\n"
      ]
    },
    {
      "cell_type": "code",
      "source": [
        "F = np.r_[np.eye(n), -np.eye(n), np.ones((1, n))/n, -np.ones((1, n))/n]\n",
        "g = np.r_[1.25*cnom, -0.75*cnom, 1.1*sum(cnom)/n, -0.9*sum(cnom)/n]\n",
        "\n",
        "x = cp.Variable(n)\n",
        "lambd_a = cp.Variable(g.size)\n",
        "\n",
        "\n",
        "S=A*x\n",
        "S = cp.reshape(A*x,(30,1))\n",
        "\n",
        "constr1 = [S>=b, F.T*lambd_a==x, lambd_a>=0]\n",
        "cp.Problem(cp.Minimize(lambd_a.T*g), constr1).solve()\n",
        "x_robust = x.value\n",
        "\n",
        "constr2 = [S>=b]\n",
        "cp.Problem(cp.Minimize(cnom.T*x), constr2).solve()\n",
        "x_nom = x.value\n",
        "x_nom = cp.reshape(x_nom,(10,1))\n",
        "x_rob = cp.reshape(x_robust,(10,1))\n",
        "\n",
        "print(\"x_nom nominal and x_robust nominal costs are\")\n",
        "print(\"Nominal cost of X:\",(cnom.T*x_nom).value )\n",
        "print(\"Robust of X:\",(cnom.T*x_rob).value )\n",
        "\n",
        "c = cp.Variable(n)\n",
        "S1 = cp.reshape(F*c,(22,1))\n",
        "constr3 = S1<=g\n",
        "f_x_nom = cp.Problem(cp.Maximize(c.T*x_nom), [constr3]).solve()\n",
        "f_x_rob = cp.Problem(cp.Maximize(c.T*x_rob), [constr3]).solve()\n",
        "\n",
        "print(\"worst case nominal and robust costs are \")\n",
        "print(\"worst case x_nominal:\",f_x_nom)\n",
        "print(\"worst case x_robust:\",f_x_rob)"
      ],
      "metadata": {
        "colab": {
          "base_uri": "https://localhost:8080/"
        },
        "id": "mmlg9tBamY56",
        "outputId": "9700cd1b-f687-436d-e3bf-36f78de8b121"
      },
      "execution_count": 12,
      "outputs": [
        {
          "output_type": "stream",
          "name": "stdout",
          "text": [
            "x_nom nominal and x_robust nominal costs are\n",
            "Nominal cost of X: [[1.81361295]]\n",
            "Robust of X: [[2.12672409]]\n",
            "worst case nominal and robust costs are \n",
            "worst case x_nominal: 4.7461005878379225\n",
            "worst case x_robust: 2.6584051066832988\n"
          ]
        }
      ]
    }
  ]
}