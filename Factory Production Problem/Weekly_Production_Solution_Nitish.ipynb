{
  "nbformat": 4,
  "nbformat_minor": 0,
  "metadata": {
    "colab": {
      "name": "Weekly Production Solution Nitish",
      "provenance": [],
      "collapsed_sections": []
    },
    "kernelspec": {
      "name": "python3",
      "display_name": "Python 3"
    },
    "language_info": {
      "name": "python"
    }
  },
  "cells": [
    {
      "cell_type": "code",
      "execution_count": 1,
      "metadata": {
        "id": "LQ1ftsgm_KQ6"
      },
      "outputs": [],
      "source": [
        "#All imports\n",
        "import pandas as pd\n",
        "import numpy as np\n",
        "import cvxpy as cp"
      ]
    },
    {
      "cell_type": "code",
      "source": [
        "ques_data=[{'Per day max production':6000,'Storage':40,'Per week minimum sale':5000,'weekly demand':10000,'Profit per item':4},\n",
        "      {'Per day max production':3000,'Storage':210,'Per week minimum sale':4000,'weekly demand':8000,'Profit per item':10},\n",
        "      {'Per day max production':5000,'Storage':45,'Per week minimum sale':'-','weekly demand':15000,'Profit per item':6}]\n",
        "\n",
        "dataTable=pd.DataFrame(ques_data,index=['iPod','iPad','iPhone'])\n",
        "dataTable"
      ],
      "metadata": {
        "colab": {
          "base_uri": "https://localhost:8080/",
          "height": 143
        },
        "id": "-o_98QYS_93b",
        "outputId": "e5093e4b-af96-4f5d-f2c4-bbcbab1599a7"
      },
      "execution_count": 21,
      "outputs": [
        {
          "output_type": "execute_result",
          "data": {
            "text/html": [
              "\n",
              "  <div id=\"df-bfecbca7-e381-438f-9e2d-451bf6604a7c\">\n",
              "    <div class=\"colab-df-container\">\n",
              "      <div>\n",
              "<style scoped>\n",
              "    .dataframe tbody tr th:only-of-type {\n",
              "        vertical-align: middle;\n",
              "    }\n",
              "\n",
              "    .dataframe tbody tr th {\n",
              "        vertical-align: top;\n",
              "    }\n",
              "\n",
              "    .dataframe thead th {\n",
              "        text-align: right;\n",
              "    }\n",
              "</style>\n",
              "<table border=\"1\" class=\"dataframe\">\n",
              "  <thead>\n",
              "    <tr style=\"text-align: right;\">\n",
              "      <th></th>\n",
              "      <th>Per day max production</th>\n",
              "      <th>Storage</th>\n",
              "      <th>Per week minimum sale</th>\n",
              "      <th>weekly demand</th>\n",
              "      <th>Profit per item</th>\n",
              "    </tr>\n",
              "  </thead>\n",
              "  <tbody>\n",
              "    <tr>\n",
              "      <th>iPod</th>\n",
              "      <td>6000</td>\n",
              "      <td>40</td>\n",
              "      <td>5000</td>\n",
              "      <td>10000</td>\n",
              "      <td>4</td>\n",
              "    </tr>\n",
              "    <tr>\n",
              "      <th>iPad</th>\n",
              "      <td>3000</td>\n",
              "      <td>210</td>\n",
              "      <td>4000</td>\n",
              "      <td>8000</td>\n",
              "      <td>10</td>\n",
              "    </tr>\n",
              "    <tr>\n",
              "      <th>iPhone</th>\n",
              "      <td>5000</td>\n",
              "      <td>45</td>\n",
              "      <td>-</td>\n",
              "      <td>15000</td>\n",
              "      <td>6</td>\n",
              "    </tr>\n",
              "  </tbody>\n",
              "</table>\n",
              "</div>\n",
              "      <button class=\"colab-df-convert\" onclick=\"convertToInteractive('df-bfecbca7-e381-438f-9e2d-451bf6604a7c')\"\n",
              "              title=\"Convert this dataframe to an interactive table.\"\n",
              "              style=\"display:none;\">\n",
              "        \n",
              "  <svg xmlns=\"http://www.w3.org/2000/svg\" height=\"24px\"viewBox=\"0 0 24 24\"\n",
              "       width=\"24px\">\n",
              "    <path d=\"M0 0h24v24H0V0z\" fill=\"none\"/>\n",
              "    <path d=\"M18.56 5.44l.94 2.06.94-2.06 2.06-.94-2.06-.94-.94-2.06-.94 2.06-2.06.94zm-11 1L8.5 8.5l.94-2.06 2.06-.94-2.06-.94L8.5 2.5l-.94 2.06-2.06.94zm10 10l.94 2.06.94-2.06 2.06-.94-2.06-.94-.94-2.06-.94 2.06-2.06.94z\"/><path d=\"M17.41 7.96l-1.37-1.37c-.4-.4-.92-.59-1.43-.59-.52 0-1.04.2-1.43.59L10.3 9.45l-7.72 7.72c-.78.78-.78 2.05 0 2.83L4 21.41c.39.39.9.59 1.41.59.51 0 1.02-.2 1.41-.59l7.78-7.78 2.81-2.81c.8-.78.8-2.07 0-2.86zM5.41 20L4 18.59l7.72-7.72 1.47 1.35L5.41 20z\"/>\n",
              "  </svg>\n",
              "      </button>\n",
              "      \n",
              "  <style>\n",
              "    .colab-df-container {\n",
              "      display:flex;\n",
              "      flex-wrap:wrap;\n",
              "      gap: 12px;\n",
              "    }\n",
              "\n",
              "    .colab-df-convert {\n",
              "      background-color: #E8F0FE;\n",
              "      border: none;\n",
              "      border-radius: 50%;\n",
              "      cursor: pointer;\n",
              "      display: none;\n",
              "      fill: #1967D2;\n",
              "      height: 32px;\n",
              "      padding: 0 0 0 0;\n",
              "      width: 32px;\n",
              "    }\n",
              "\n",
              "    .colab-df-convert:hover {\n",
              "      background-color: #E2EBFA;\n",
              "      box-shadow: 0px 1px 2px rgba(60, 64, 67, 0.3), 0px 1px 3px 1px rgba(60, 64, 67, 0.15);\n",
              "      fill: #174EA6;\n",
              "    }\n",
              "\n",
              "    [theme=dark] .colab-df-convert {\n",
              "      background-color: #3B4455;\n",
              "      fill: #D2E3FC;\n",
              "    }\n",
              "\n",
              "    [theme=dark] .colab-df-convert:hover {\n",
              "      background-color: #434B5C;\n",
              "      box-shadow: 0px 1px 3px 1px rgba(0, 0, 0, 0.15);\n",
              "      filter: drop-shadow(0px 1px 2px rgba(0, 0, 0, 0.3));\n",
              "      fill: #FFFFFF;\n",
              "    }\n",
              "  </style>\n",
              "\n",
              "      <script>\n",
              "        const buttonEl =\n",
              "          document.querySelector('#df-bfecbca7-e381-438f-9e2d-451bf6604a7c button.colab-df-convert');\n",
              "        buttonEl.style.display =\n",
              "          google.colab.kernel.accessAllowed ? 'block' : 'none';\n",
              "\n",
              "        async function convertToInteractive(key) {\n",
              "          const element = document.querySelector('#df-bfecbca7-e381-438f-9e2d-451bf6604a7c');\n",
              "          const dataTable =\n",
              "            await google.colab.kernel.invokeFunction('convertToInteractive',\n",
              "                                                     [key], {});\n",
              "          if (!dataTable) return;\n",
              "\n",
              "          const docLinkHtml = 'Like what you see? Visit the ' +\n",
              "            '<a target=\"_blank\" href=https://colab.research.google.com/notebooks/data_table.ipynb>data table notebook</a>'\n",
              "            + ' to learn more about interactive tables.';\n",
              "          element.innerHTML = '';\n",
              "          dataTable['output_type'] = 'display_data';\n",
              "          await google.colab.output.renderOutput(dataTable, element);\n",
              "          const docLink = document.createElement('div');\n",
              "          docLink.innerHTML = docLinkHtml;\n",
              "          element.appendChild(docLink);\n",
              "        }\n",
              "      </script>\n",
              "    </div>\n",
              "  </div>\n",
              "  "
            ],
            "text/plain": [
              "        Per day max production  Storage  ... weekly demand  Profit per item\n",
              "iPod                      6000       40  ...         10000                4\n",
              "iPad                      3000      210  ...          8000               10\n",
              "iPhone                    5000       45  ...         15000                6\n",
              "\n",
              "[3 rows x 5 columns]"
            ]
          },
          "metadata": {},
          "execution_count": 21
        }
      ]
    },
    {
      "cell_type": "code",
      "source": [
        "#getting numpy array\n",
        "dataframe=dataTable.to_numpy()\n",
        "#displaying array A\n",
        "dataframe"
      ],
      "metadata": {
        "colab": {
          "base_uri": "https://localhost:8080/"
        },
        "id": "4tHDKFYlALjD",
        "outputId": "968867fd-b4a3-4e8c-ba79-9b6d6615196a"
      },
      "execution_count": 23,
      "outputs": [
        {
          "output_type": "execute_result",
          "data": {
            "text/plain": [
              "array([[6000, 40, 5000, 10000, 4],\n",
              "       [3000, 210, 4000, 8000, 10],\n",
              "       [5000, 45, '-', 15000, 6]], dtype=object)"
            ]
          },
          "metadata": {},
          "execution_count": 23
        }
      ]
    },
    {
      "cell_type": "code",
      "source": [
        "days=5\n",
        "x=cp.Variable((3,1))\n",
        "production_per_day = cp.multiply(np.reshape(dataframe[:,0],(len(dataframe[:,0]),1)),x)\n",
        "production_each_week = days*production_per_day\n",
        "\n",
        "#Objective fuction\n",
        "Objective= cp.Maximize(cp.matmul(dataframe[:,4].T, production_each_week))\n",
        "\n",
        "# Constraint formulation\n",
        "proportions =[sum(x)<=1]\n",
        "demands =[ production_each_week <= np.reshape(dataframe[:,3],(3,1)) ]\n",
        "storages =[sum(cp.multiply(production_each_week , np.reshape(dataframe[:,1],(3,1))/1000)) <= 6000]\n",
        "minSales =[production_each_week[0:2,:]>=np.reshape(dataframe[0:2,2],(2,1))]\n",
        "\n",
        "constraints = proportions + storages + minSales + demands + [x>=0]\n",
        "\n",
        "#Problem formulation and solution\n",
        "cv_problem = cp.Problem(Objective, constraints) \n",
        "cv_problem.solve()\n",
        "print( \"Maximum net profit : \", cv_problem.solve())\n",
        "print(\"Values of proportion to be considered for maximum profit : \", x.value)"
      ],
      "metadata": {
        "colab": {
          "base_uri": "https://localhost:8080/"
        },
        "id": "pLC4uWNJA6sM",
        "outputId": "bff1367b-b6e3-4da6-e8f5-020be19f2ecd"
      },
      "execution_count": 25,
      "outputs": [
        {
          "output_type": "stream",
          "name": "stdout",
          "text": [
            "Maximum net profit :  145000.00011527352\n",
            "Values of proportion to be considered for maximum profit :  [[0.16666667]\n",
            " [0.4203366 ]\n",
            " [0.41299673]]\n"
          ]
        }
      ]
    }
  ]
}