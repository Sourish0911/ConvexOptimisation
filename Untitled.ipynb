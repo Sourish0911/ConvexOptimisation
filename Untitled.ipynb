{
 "cells": [
  {
   "cell_type": "code",
   "execution_count": 27,
   "id": "1b365b20",
   "metadata": {},
   "outputs": [],
   "source": [
    "import cvxpy as cp\n",
    "import cv2"
   ]
  },
  {
   "cell_type": "code",
   "execution_count": 5,
   "id": "a92f72a7",
   "metadata": {},
   "outputs": [],
   "source": [
    "import numpy as np"
   ]
  },
  {
   "cell_type": "code",
   "execution_count": 6,
   "id": "e1deeae8",
   "metadata": {},
   "outputs": [],
   "source": [
    "import matplotlib.pyplot as plt"
   ]
  },
  {
   "cell_type": "code",
   "execution_count": 34,
   "id": "c4db50c2",
   "metadata": {},
   "outputs": [],
   "source": [
    "from PIL import Image\n",
    "try: \n",
    "    img  = Image.open(r\"C:\\Users\\souri\\Downloads\\reflectSuppress-master\\reflectSuppress-master\\figures\\building.jpg\") \n",
    "except IOError:\n",
    "    pass\n",
    "np_img = np.array(img)\n",
    "\n"
   ]
  },
  {
   "cell_type": "code",
   "execution_count": 23,
   "id": "89d52f9c",
   "metadata": {},
   "outputs": [],
   "source": [
    "def reflectSupress(np_img,h,epsilon):\n",
    "    [m,n,r]=np_img.shape\n",
    "    for i in range(0,r):\n",
    "        kernely = np.array([[1,1,1],[0,0,0],[-1,-1,-1]])\n",
    "        kernelx = np.array([[1,0,-1],[1,0,-1],[1,0,-1]])\n",
    "        edges_x = cv2.filter2D(np_img[:,:,i],cv2.CV_8U,kernelx)\n",
    "        edges_y = cv2.filter2D(np_img[:,:,i],cv2.CV_8U,kernely)\n",
    "        cv2.imshow('Gradients_X',edges_x)\n",
    "        cv2.imshow('Gradients_Y',edges_y)\n",
    "        cv2.waitKey(0)\n",
    "        \n",
    "        \n",
    "    return T"
   ]
  },
  {
   "cell_type": "code",
   "execution_count": 44,
   "id": "1d2dbeca",
   "metadata": {},
   "outputs": [
    {
     "ename": "TypeError",
     "evalue": "_reshape_dispatcher() missing 1 required positional argument: 'newshape'",
     "output_type": "error",
     "traceback": [
      "\u001b[1;31m---------------------------------------------------------------------------\u001b[0m",
      "\u001b[1;31mTypeError\u001b[0m                                 Traceback (most recent call last)",
      "\u001b[1;32m~\\AppData\\Local\\Temp/ipykernel_5196/1302547663.py\u001b[0m in \u001b[0;36m<module>\u001b[1;34m\u001b[0m\n\u001b[0;32m      2\u001b[0m \u001b[1;33m\u001b[0m\u001b[0m\n\u001b[0;32m      3\u001b[0m \u001b[0mB\u001b[0m \u001b[1;33m=\u001b[0m \u001b[0mnp\u001b[0m\u001b[1;33m.\u001b[0m\u001b[0mgradient\u001b[0m\u001b[1;33m(\u001b[0m\u001b[0mA\u001b[0m\u001b[1;33m)\u001b[0m\u001b[1;33m\u001b[0m\u001b[1;33m\u001b[0m\u001b[0m\n\u001b[1;32m----> 4\u001b[1;33m \u001b[0mB\u001b[0m \u001b[1;33m=\u001b[0m \u001b[0mnp\u001b[0m\u001b[1;33m.\u001b[0m\u001b[0mreshape\u001b[0m\u001b[1;33m(\u001b[0m\u001b[0mB\u001b[0m\u001b[1;33m)\u001b[0m\u001b[1;33m\u001b[0m\u001b[1;33m\u001b[0m\u001b[0m\n\u001b[0m\u001b[0;32m      5\u001b[0m \u001b[0mB\u001b[0m\u001b[1;33m\u001b[0m\u001b[1;33m\u001b[0m\u001b[0m\n",
      "\u001b[1;32m<__array_function__ internals>\u001b[0m in \u001b[0;36mreshape\u001b[1;34m(*args, **kwargs)\u001b[0m\n",
      "\u001b[1;31mTypeError\u001b[0m: _reshape_dispatcher() missing 1 required positional argument: 'newshape'"
     ]
    }
   ],
   "source": [
    "A = np.array([[1,2,3],[5,4,5],[6,4,7]])\n",
    "\n",
    "B = np.gradient(A)\n",
    "B = np.reshape(B)\n",
    "B\n"
   ]
  }
 ],
 "metadata": {
  "kernelspec": {
   "display_name": "Python 3 (ipykernel)",
   "language": "python",
   "name": "python3"
  },
  "language_info": {
   "codemirror_mode": {
    "name": "ipython",
    "version": 3
   },
   "file_extension": ".py",
   "mimetype": "text/x-python",
   "name": "python",
   "nbconvert_exporter": "python",
   "pygments_lexer": "ipython3",
   "version": "3.9.7"
  }
 },
 "nbformat": 4,
 "nbformat_minor": 5
}
