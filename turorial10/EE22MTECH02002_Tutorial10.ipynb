{
  "nbformat": 4,
  "nbformat_minor": 0,
  "metadata": {
    "colab": {
      "name": "Untitled9.ipynb",
      "provenance": []
    },
    "kernelspec": {
      "name": "python3",
      "display_name": "Python 3"
    },
    "language_info": {
      "name": "python"
    }
  },
  "cells": [
    {
      "cell_type": "code",
      "execution_count": 1,
      "metadata": {
        "id": "3J8zavLYYVX6"
      },
      "outputs": [],
      "source": [
        "import numpy as np\n",
        "import cvxpy as cp\n",
        "import matplotlib.pyplot as plt"
      ]
    },
    {
      "cell_type": "code",
      "source": [
        "pinit = np.array([0,0])\n",
        "pdes = np.array([10,2])\n",
        "\n",
        "upBound = 100\n",
        "lowBound = 10\n",
        "\t\t\t\t\t\t\t\t\t \n",
        "\n",
        "theta = 15*np.pi/180\n",
        "\t\t\t \n",
        "\n",
        "mass = 0.1\n",
        "\t\t\t\t\t\n",
        "Tmax = 2\n",
        "g = np.array([0,-9.8]).reshape((2,1))\n",
        "h = 0.1\n",
        "\n",
        "orientation_Matrix = np.array([[- np.sin(theta), np.sin(theta) ], [ np.cos(theta), np.cos(theta) ]])\n",
        "Feasible_p = 0\n",
        "Feasible_T = 0\n",
        "while not lowBound + 1 == upBound:\n",
        "  i = int((upBound + lowBound)/2.0)\n",
        "  #print(k)\n",
        "  Tes = cp.Variable((2,i-1))\n",
        "  pos = cp.Variable((2,i))\n",
        "  vel = cp.Variable((2,i))\n",
        "\n",
        "  F = orientation_Matrix@Tes + mass*np.tile(g,(1,i-1))\n",
        "\n",
        "  constraints = [0 <= Tes, Tes <= Tmax]\n",
        "  constraints += [pos[:,1:i] == pos[:,0:i-1] + h*vel[:,0:i-1]]\n",
        "  constraints += [vel[:,1:i] == vel[:,0:i-1] + (h/mass)*F]\n",
        "  constraints += [pos[:,0] == pinit, pos[:,i-1] == pdes]\n",
        "  constraints += [vel[:,0] == 0 , vel[:,i-1] == 0]\n",
        "\n",
        "\n",
        "\n",
        "  prob = cp.Problem(cp.Minimize(0),constraints)\n",
        "  optimal_value = prob.solve()\n",
        "  if optimal_value == 0:\n",
        "    upBound = i\n",
        "    Feasible_T = Tes.value\n",
        "    Feasible_p = pos.value\n",
        "  else :\n",
        "    lowBound = i\n",
        "i = upBound\n",
        "print('Minimum k value is ', i)\n",
        "plt.subplot(2,1,1)\n",
        "plt.plot(Feasible_T[0,:].T,label='Tensionleft')\n",
        "plt.plot(Feasible_T[1,:].T,label='Tesionright')\n",
        "plt.legend()\n",
        "plt.title('Tensions')\n",
        "plt.subplot(2,1,2)\n",
        "plt.plot(Feasible_p[0,:].T,Feasible_p[1,:].T)\n",
        "plt.title('Trajectory')\n"
      ],
      "metadata": {
        "colab": {
          "base_uri": "https://localhost:8080/",
          "height": 316
        },
        "id": "I8qPxT2bYZ-g",
        "outputId": "0de78258-2647-4c16-dc75-a83161d3b63f"
      },
      "execution_count": 19,
      "outputs": [
        {
          "output_type": "stream",
          "name": "stdout",
          "text": [
            "Minimum k value is  34\n"
          ]
        },
        {
          "output_type": "execute_result",
          "data": {
            "text/plain": [
              "Text(0.5, 1.0, 'Trajectory')"
            ]
          },
          "metadata": {},
          "execution_count": 19
        },
        {
          "output_type": "display_data",
          "data": {
            "text/plain": [
              "<Figure size 432x288 with 2 Axes>"
            ],
            "image/png": "[encoded data removed]"
          },
          "metadata": {
            "needs_background": "light"
          }
        }
      ]
    }
  ]
}