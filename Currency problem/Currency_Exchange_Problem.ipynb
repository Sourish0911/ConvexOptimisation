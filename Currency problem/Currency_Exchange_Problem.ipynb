{
  "nbformat": 4,
  "nbformat_minor": 0,
  "metadata": {
    "colab": {
      "name": "Currency_Exchange_Problem.ipynb",
      "provenance": [],
      "collapsed_sections": []
    },
    "kernelspec": {
      "name": "python3",
      "display_name": "Python 3"
    },
    "language_info": {
      "name": "python"
    }
  },
  "cells": [
    {
      "cell_type": "code",
      "execution_count": 13,
      "metadata": {
        "colab": {
          "base_uri": "https://localhost:8080/"
        },
        "id": "lPc40khygqmY",
        "outputId": "c9492360-8d6f-4af5-ef1f-99b8e78f97f4"
      },
      "outputs": [
        {
          "output_type": "stream",
          "name": "stdout",
          "text": [
            "The optimal cost of Exchange is 7.720059340057959 USD\n"
          ]
        }
      ],
      "source": [
        "import numpy as np\n",
        "import cvxpy as cp\n",
        "\n",
        "# Exchange rate data.\n",
        "tickers = [\"USD\", \"EUR\", \"GBP\", \"CAD\", \"JPY\", \"CNY\", \"RUB\", \"MXN\", \"INR\", \"BRL\"]\n",
        "n = len(tickers)\n",
        "F = np.zeros((n, n))\n",
        "# USD\n",
        "data = ([1.0, 0.87, 0.76, 1.31, 108.90, 6.72, 65.45, 19.11, 71.13, 3.69],\n",
        "# EUR\n",
        "[1.0, 0.88, 1.51, 125.15, 7.72, 75.23, 21.96, 81.85, 4.24],\n",
        "# GBP\n",
        "[1.0, 1.72, 142.94, 8.82, 85.90, 25.08, 93.50, 4.84],\n",
        "# CAD\n",
        "[1.0, 82.93, 5.11, 49.82, 14.54, 54.23, 2.81],\n",
        "# JPY\n",
        "[1.0, 0.062, 0.60, 0.18, 0.65, 0.034],\n",
        "# CNY\n",
        "[1.0, 9.74, 2.85, 10.61, 0.55],\n",
        "# RUB\n",
        "[1.0, 0.29, 1.09, 0.056],\n",
        "# MXN\n",
        "[1.0, 3.73, 0.19],\n",
        "# INR\n",
        "[1.0, 0.052],\n",
        "# BRL\n",
        "[1.0])\n",
        "for i in range(n):\n",
        "    F[i,i:] = data[i]\n",
        "for j in range(n):\n",
        "    for i in range(j+1,n):\n",
        "        F[i,j] = 1.035/F[j,i]\n",
        "        \n",
        "# Initial and final portfolios.\n",
        "c_req = np.arange(1,n+1)\n",
        "c_req = 1e4*c_req/c_req.sum()\n",
        "c_init = c_req[::-1]\n",
        "\n",
        "# Defining our optimization variable\n",
        "x = cp.Variable((n,n))\n",
        "\n",
        "#Define a matrix of all ones\n",
        "one_m = np.ones(n)\n",
        "\n",
        "#Defining the Post Exchange holding of currency\n",
        "c_final = c_init - x.T@one_m + (x/F)@one_m\n",
        "\n",
        "#Defining the cost function that needs to minimized as per the problem \n",
        "cost = (c_init-c_final)@(np.sqrt(F[:,0]/F[0,:]))\n",
        "\n",
        "#Defining the Constraints in the problem\n",
        "Constraints = [x >= 0, cp.diag(x) == 0, c_final>=c_req, x.T@one_m <= c_init]\n",
        "\n",
        "#Defining the Objective function to minimze the cost\n",
        "Objective = cp.Minimize(cost)\n",
        "\n",
        "prob = cp.Problem(Objective, Constraints)\n",
        "\n",
        "final_cost = prob.solve()\n",
        "\n",
        "print(\"The optimal cost of Exchange is\",final_cost,\"USD\")\n",
        "\n",
        "\n"
      ]
    }
  ]
}