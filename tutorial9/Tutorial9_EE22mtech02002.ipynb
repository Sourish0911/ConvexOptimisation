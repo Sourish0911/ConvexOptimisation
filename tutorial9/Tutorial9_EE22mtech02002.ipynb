{
  "nbformat": 4,
  "nbformat_minor": 0,
  "metadata": {
    "colab": {
      "name": "Untitled7.ipynb",
      "provenance": []
    },
    "kernelspec": {
      "name": "python3",
      "display_name": "Python 3"
    },
    "language_info": {
      "name": "python"
    }
  },
  "cells": [
    {
      "cell_type": "code",
      "execution_count": 39,
      "metadata": {
        "id": "2dREqm8LJCZ8"
      },
      "outputs": [],
      "source": [
        "import numpy as np\n",
        "import cvxpy as cp\n",
        "def min_SINR(G,Pmax,Preceived,sigma,Group,Group_max,eps = 0.05):\n",
        "\n",
        "  n,m = np.shape(G)\n",
        "  p = cp.Variable((n,1))\n",
        "  optimalPow = np.zeros(n)\n",
        "  delta = np.identity(n)\n",
        "  SignalMatrix = G*np.eye(n) \n",
        "\n",
        "  InterferenceMatrix = G-SignalMatrix \n",
        "  num_groups = int(np.size(Group,0))\n",
        "  Grp_norm = np.array([group/np.sum(group) for group in Group])\n",
        "\n",
        "\n",
        "  r = 1e4\n",
        "  s = 0\n",
        "  \n",
        "  alpha = cp.Parameter()\n",
        "  constraints = [p <= Pmax, p >= 0, Grp_norm*p <= Group_max, G*p <= Preceived, InterferenceMatrix@p + sigma <= alpha*SignalMatrix*p]\n",
        "\n",
        "  obj = cp.Minimize(alpha)\n",
        "  alpha.value = r\n",
        "  prob = cp.Problem(obj, constraints)\n",
        "  prob.solve()\n",
        "  alpha.value = s\n",
        "  prob = cp.Problem(obj, constraints)\n",
        "\n",
        "  maxLoop = int(1e7)\n",
        "  for i in range(1,maxLoop):\n",
        "    alpha.value = (r + s)/2.0\n",
        "    \n",
        "    if r-s <= eps:\n",
        "      break\n",
        "    prob = cp.Problem(obj, constraints)\n",
        "    prob.solve()\n",
        "    if prob.status == 'optimal':\n",
        "      r = alpha.value\n",
        "      optimalPow = p.value\n",
        "    else:\n",
        "      s = alpha.value\n",
        "    if r - s > eps and i == (maxLoop-1):\n",
        "      print(\"not converge to eps\")\n",
        "  return l,u,alpha.value,optimalPow"
      ]
    },
    {
      "cell_type": "code",
      "source": [
        "G = np.array([[1.0,0.1,0.2,0.1,0.0],\n",
        "                [0.1,1.0,0.1,0.1,0.0],\n",
        "                [0.2,0.1,2.0,0.2,0.2],\n",
        "                [0.1,0.1,0.2,1.0,0.1],\n",
        "                [0.0,0.0,0.2,0.1,1.0]])\n",
        "\n",
        "Grpmax = np.array([[3.0],[6.0]])\n",
        "n,m = np.shape(G)\n",
        "sigma = np.array([0.5,0.5,0.5,0.5,0.5]).reshape((n,1))\n",
        "Group = np.array([[1.,1.,0,0,0],[0,0,1.,1.,1.]])\n",
        "\n",
        "\n",
        "Preceived = (np.array([5.,5.,5.,5.,5.]).reshape((n,1)))/n\n",
        "\n",
        "Pmax = np.array([3.]*n).reshape((n,1))\n",
        "\n",
        "\n",
        "l,u,alp,best=min_SINR(G,Pmax,Preceived,sigma,Group,Grpmax)\n",
        "\n",
        "print('Power=%s'%(best))\n",
        "print('Min SINR=%.4g'%(1/alp))\n"
      ],
      "metadata": {
        "colab": {
          "base_uri": "https://localhost:8080/"
        },
        "id": "0-YDlJ5rJWOa",
        "outputId": "379bb4d9-a6d2-466c-91fc-0478bfa673e2"
      },
      "execution_count": 40,
      "outputs": [
        {
          "output_type": "stream",
          "name": "stdout",
          "text": [
            "Power=[[0.51316491]\n",
            " [0.49975582]\n",
            " [0.32181663]\n",
            " [0.54193416]\n",
            " [0.46441846]]\n",
            "Min SINR=0.7598\n"
          ]
        }
      ]
    }
  ]
}